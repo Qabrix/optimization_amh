{
 "cells": [
  {
   "cell_type": "code",
   "execution_count": 4,
   "metadata": {},
   "outputs": [
    {
     "name": "stdout",
     "output_type": "stream",
     "text": [
      "2\n",
      "4\n",
      "6\n",
      "8\n",
      "10\n"
     ]
    }
   ],
   "source": [
    "data = [2,4,6,8,10,11,12,14]\n",
    "\n",
    "itr = iter(data)\n",
    "while True:\n",
    "    elem = 0\n",
    "    try:\n",
    "        elem = next(itr)\n",
    "        if(elem%2 != 0):\n",
    "            raise StopIteration\n",
    "        \n",
    "        print(\"dupa\")\n",
    "        \n",
    "    except StopIteration:\n",
    "        break\n",
    "    print(elem)\n",
    "    \n"
   ]
  },
  {
   "cell_type": "code",
   "execution_count": null,
   "metadata": {},
   "outputs": [],
   "source": []
  }
 ],
 "metadata": {
  "kernelspec": {
   "display_name": "Python 3",
   "language": "python",
   "name": "python3"
  },
  "language_info": {
   "codemirror_mode": {
    "name": "ipython",
    "version": 3
   },
   "file_extension": ".py",
   "mimetype": "text/x-python",
   "name": "python",
   "nbconvert_exporter": "python",
   "pygments_lexer": "ipython3",
   "version": "3.7.4"
  }
 },
 "nbformat": 4,
 "nbformat_minor": 2
}
